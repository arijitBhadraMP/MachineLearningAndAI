{
 "cells": [
  {
   "cell_type": "code",
   "execution_count": 1,
   "metadata": {
    "collapsed": true
   },
   "outputs": [],
   "source": [
    "import numpy as np"
   ]
  },
  {
   "cell_type": "code",
   "execution_count": 15,
   "metadata": {
    "collapsed": true
   },
   "outputs": [],
   "source": [
    " X = np.random.randint(5, size=(6, 100)) #feature data"
   ]
  },
  {
   "cell_type": "code",
   "execution_count": 16,
   "metadata": {
    "collapsed": true
   },
   "outputs": [],
   "source": [
    "y = np.array([1, 2, 3, 4, 5, 6]) #target data"
   ]
  },
  {
   "cell_type": "code",
   "execution_count": 17,
   "metadata": {},
   "outputs": [
    {
     "data": {
      "text/plain": [
       "array([[0, 1, 4, 1, 3, 4, 4, 1, 4, 0, 4, 4, 2, 4, 4, 2, 0, 2, 3, 1, 1, 1,\n",
       "        4, 3, 0, 1, 4, 3, 1, 1, 2, 4, 4, 1, 3, 4, 0, 2, 4, 2, 3, 2, 3, 4,\n",
       "        2, 3, 3, 3, 0, 4, 3, 2, 0, 1, 0, 1, 1, 1, 1, 0, 0, 0, 2, 4, 3, 1,\n",
       "        3, 4, 3, 0, 0, 4, 3, 3, 3, 2, 1, 3, 0, 4, 0, 4, 3, 4, 1, 4, 3, 0,\n",
       "        3, 0, 3, 2, 0, 4, 1, 3, 3, 3, 1, 4],\n",
       "       [2, 1, 4, 1, 4, 1, 3, 2, 2, 0, 4, 0, 1, 3, 4, 1, 3, 2, 3, 3, 1, 0,\n",
       "        0, 3, 2, 4, 3, 0, 4, 0, 4, 2, 4, 0, 1, 3, 1, 3, 4, 4, 1, 3, 3, 3,\n",
       "        3, 1, 4, 3, 1, 0, 2, 3, 3, 4, 0, 0, 1, 0, 2, 4, 0, 4, 3, 1, 4, 3,\n",
       "        0, 1, 2, 2, 1, 1, 3, 4, 0, 1, 4, 0, 1, 0, 1, 3, 2, 0, 1, 4, 4, 1,\n",
       "        1, 3, 0, 0, 0, 0, 0, 4, 0, 0, 2, 2],\n",
       "       [3, 3, 3, 0, 4, 4, 0, 0, 1, 4, 0, 1, 1, 2, 2, 0, 3, 2, 2, 1, 0, 3,\n",
       "        2, 4, 1, 1, 4, 3, 0, 4, 4, 4, 4, 2, 1, 4, 3, 1, 3, 3, 1, 2, 0, 2,\n",
       "        1, 3, 4, 4, 2, 1, 2, 4, 0, 3, 1, 4, 0, 1, 0, 3, 2, 3, 3, 0, 4, 4,\n",
       "        4, 4, 1, 3, 1, 4, 3, 4, 0, 1, 4, 4, 0, 1, 1, 2, 2, 0, 2, 3, 3, 3,\n",
       "        1, 4, 2, 4, 3, 2, 0, 2, 4, 2, 3, 3],\n",
       "       [3, 1, 3, 3, 2, 4, 1, 4, 2, 3, 2, 3, 0, 3, 3, 0, 3, 4, 3, 2, 3, 0,\n",
       "        3, 1, 0, 2, 2, 0, 1, 1, 2, 1, 1, 2, 0, 1, 0, 1, 2, 1, 2, 3, 0, 3,\n",
       "        0, 0, 3, 2, 3, 0, 0, 3, 4, 3, 4, 2, 4, 4, 4, 4, 3, 0, 4, 2, 2, 4,\n",
       "        2, 4, 0, 1, 4, 0, 1, 1, 4, 4, 2, 3, 2, 3, 4, 3, 3, 3, 1, 2, 3, 1,\n",
       "        2, 2, 2, 3, 1, 2, 2, 3, 4, 0, 1, 0],\n",
       "       [1, 0, 2, 3, 2, 0, 2, 2, 1, 3, 1, 0, 2, 0, 0, 4, 2, 4, 3, 2, 3, 2,\n",
       "        4, 0, 3, 3, 3, 2, 0, 3, 1, 4, 0, 3, 0, 3, 0, 0, 3, 4, 1, 2, 3, 3,\n",
       "        3, 2, 4, 0, 3, 0, 0, 1, 2, 3, 4, 0, 0, 1, 4, 4, 0, 4, 2, 1, 0, 4,\n",
       "        3, 0, 2, 0, 0, 3, 1, 2, 0, 0, 1, 2, 0, 2, 0, 4, 4, 4, 2, 4, 3, 1,\n",
       "        4, 2, 1, 1, 3, 1, 2, 0, 3, 1, 0, 0],\n",
       "       [2, 4, 0, 0, 0, 4, 0, 2, 0, 3, 3, 2, 2, 1, 1, 0, 1, 2, 4, 0, 2, 1,\n",
       "        1, 4, 0, 3, 2, 2, 0, 3, 4, 1, 3, 1, 2, 0, 1, 2, 4, 3, 2, 0, 3, 4,\n",
       "        0, 1, 4, 2, 3, 1, 0, 1, 2, 4, 2, 2, 0, 2, 4, 1, 1, 0, 0, 0, 1, 3,\n",
       "        3, 3, 3, 2, 4, 1, 0, 3, 0, 1, 3, 3, 4, 4, 4, 1, 3, 1, 4, 1, 3, 0,\n",
       "        3, 2, 2, 1, 4, 0, 1, 0, 2, 3, 3, 0]])"
      ]
     },
     "execution_count": 17,
     "metadata": {},
     "output_type": "execute_result"
    }
   ],
   "source": [
    "X"
   ]
  },
  {
   "cell_type": "code",
   "execution_count": 5,
   "metadata": {
    "collapsed": true
   },
   "outputs": [],
   "source": [
    "from sklearn.naive_bayes import MultinomialNB"
   ]
  },
  {
   "cell_type": "code",
   "execution_count": 6,
   "metadata": {
    "collapsed": true
   },
   "outputs": [],
   "source": [
    "clf = MultinomialNB()"
   ]
  },
  {
   "cell_type": "code",
   "execution_count": 7,
   "metadata": {},
   "outputs": [
    {
     "data": {
      "text/plain": [
       "MultinomialNB(alpha=1.0, class_prior=None, fit_prior=True)"
      ]
     },
     "execution_count": 7,
     "metadata": {},
     "output_type": "execute_result"
    }
   ],
   "source": [
    "clf.fit(X, y) # training the object or creating a model"
   ]
  },
  {
   "cell_type": "code",
   "execution_count": 8,
   "metadata": {},
   "outputs": [
    {
     "name": "stdout",
     "output_type": "stream",
     "text": [
      "[3]\n"
     ]
    }
   ],
   "source": [
    "print(clf.predict(X[2:3]))"
   ]
  },
  {
   "cell_type": "code",
   "execution_count": 10,
   "metadata": {},
   "outputs": [
    {
     "name": "stdout",
     "output_type": "stream",
     "text": [
      "[2]\n"
     ]
    }
   ],
   "source": [
    "print(clf.predict(X[1:2]))"
   ]
  },
  {
   "cell_type": "code",
   "execution_count": 19,
   "metadata": {},
   "outputs": [
    {
     "name": "stdout",
     "output_type": "stream",
     "text": [
      "[4]\n"
     ]
    }
   ],
   "source": [
    "print(clf.predict(X[5:6]))"
   ]
  },
  {
   "cell_type": "code",
   "execution_count": null,
   "metadata": {},
   "outputs": [],
   "source": []
  },
  {
   "cell_type": "code",
   "execution_count": null,
   "metadata": {
    "collapsed": true
   },
   "outputs": [],
   "source": []
  }
 ],
 "metadata": {
  "kernelspec": {
   "display_name": "Python 3",
   "language": "python",
   "name": "python3"
  },
  "language_info": {
   "codemirror_mode": {
    "name": "ipython",
    "version": 3
   },
   "file_extension": ".py",
   "mimetype": "text/x-python",
   "name": "python",
   "nbconvert_exporter": "python",
   "pygments_lexer": "ipython3",
   "version": "3.6.3"
  }
 },
 "nbformat": 4,
 "nbformat_minor": 2
}
