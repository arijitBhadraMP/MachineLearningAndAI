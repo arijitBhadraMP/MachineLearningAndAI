{
 "cells": [
  {
   "cell_type": "markdown",
   "metadata": {},
   "source": [
    "https://home.deib.polimi.it/matteucc/Clustering/tutorial_html/kmeans.html    \n",
    "https://www.datascience.com/blog/k-means-clustering\n",
    "#### What is K-means clustering?\n",
    "\n",
    "* K-means clustering is a type of unsupervised learning, which is used when you have unlabeled data (i.e., data without defined categories or groups). \n",
    "* The goal of this algorithm is to find groups in the data, with the number of groups represented by the variable K. \n",
    "* The algorithm works iteratively to assign each data point to one of K groups based on the features that are provided. \n",
    "* Data points are clustered based on feature similarity. The results of the K-means clustering algorithm are:\n",
    "    * The centroids of the K clusters, which can be used to label new data\n",
    "    * Labels for the training data (each data point is assigned to a single cluster)\n",
    "\n",
    "\n",
    "#### The algorithm is composed of the following steps:\n",
    "\n",
    "  1)  Place K points into the space represented by the objects that are being clustered. These points represent initial group centroids.    \n",
    "  2)  Assign each object to the group that has the closest centroid.    \n",
    "  3) When all objects have been assigned, recalculate the positions of the K centroids.   \n",
    "  4) Repeat Steps 2 and 3 until the centroids no longer move. This produces a separation of the objects into groups from which the metric to be minimized can be calculated.   \n",
    " \n",
    " \n",
    " \n",
    " * Although it can be proved that the procedure will always terminate, and -\n",
    "      * the k-means algorithm does not necessarily find the most optimal configuration,corresponding to the global objective function minimum. \n",
    "      * The algorithm is also significantly sensitive to the initial randomly selected cluster centres. \n",
    "      * The k-means algorithm can be run multiple times to reduce this effect.\n",
    " *  It is a good candidate for extension to work with fuzzy feature vectors.\n",
    " \n",
    "\n"
   ]
  },
  {
   "cell_type": "code",
   "execution_count": null,
   "metadata": {
    "collapsed": true
   },
   "outputs": [],
   "source": []
  }
 ],
 "metadata": {
  "kernelspec": {
   "display_name": "Python 3",
   "language": "python",
   "name": "python3"
  },
  "language_info": {
   "codemirror_mode": {
    "name": "ipython",
    "version": 3
   },
   "file_extension": ".py",
   "mimetype": "text/x-python",
   "name": "python",
   "nbconvert_exporter": "python",
   "pygments_lexer": "ipython3",
   "version": "3.6.2"
  }
 },
 "nbformat": 4,
 "nbformat_minor": 2
}
